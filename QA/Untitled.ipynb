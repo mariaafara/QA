{
 "cells": [
  {
   "cell_type": "code",
   "execution_count": 1,
   "id": "municipal-style",
   "metadata": {},
   "outputs": [],
   "source": [
    "%load_ext autoreload\n",
    "%autoreload 2"
   ]
  },
  {
   "cell_type": "code",
   "execution_count": 3,
   "id": "local-rainbow",
   "metadata": {},
   "outputs": [],
   "source": [
    "from milvus import *\n",
    "c = Milvus('127.0.0.1', '19530')"
   ]
  },
  {
   "cell_type": "code",
   "execution_count": null,
   "id": "mighty-behalf",
   "metadata": {},
   "outputs": [],
   "source": []
  },
  {
   "cell_type": "code",
   "execution_count": 61,
   "id": "proved-neutral",
   "metadata": {},
   "outputs": [],
   "source": [
    "from QA_manager import QAManager"
   ]
  },
  {
   "cell_type": "code",
   "execution_count": 62,
   "id": "checked-purpose",
   "metadata": {},
   "outputs": [],
   "source": [
    "qa_manager = QAManager(mongo_host=\"localhost\",\n",
    "                           mongo_port=27017,\n",
    "                           mongo_username=\"root\",\n",
    "                          mongo_password=\"password\",\n",
    "                           milvus_host=\"127.0.0.1\",\n",
    "                           milvus_port=19530,\n",
    "                           bert_ip=\"localhost\",\n",
    "                           bert_port=5555,\n",
    "                           bert_port_out=5556,\n",
    "                      collection_name=\"QA\")"
   ]
  },
  {
   "cell_type": "code",
   "execution_count": 63,
   "id": "marine-tattoo",
   "metadata": {},
   "outputs": [],
   "source": [
    "qa_manager.drop_milvus_collection()"
   ]
  },
  {
   "cell_type": "code",
   "execution_count": 64,
   "id": "developed-moisture",
   "metadata": {},
   "outputs": [],
   "source": [
    "qa_manager.create_milvus_collection()"
   ]
  },
  {
   "cell_type": "code",
   "execution_count": 65,
   "id": "amateur-nylon",
   "metadata": {},
   "outputs": [
    {
     "name": "stdout",
     "output_type": "stream",
     "text": [
      "50 50\n"
     ]
    }
   ],
   "source": [
    "q, a = qa_manager.read_data(fname_path=\"../data.pkl\")"
   ]
  },
  {
   "cell_type": "code",
   "execution_count": 66,
   "id": "variable-occupation",
   "metadata": {},
   "outputs": [
    {
     "data": {
      "text/plain": [
       "['Was Alessandro Volta a professor of chemistry?',\n",
       " 'Did Alessandro Volta invent the remotely operated pistol?',\n",
       " 'Was Alessandro Volta taught in public schools?',\n",
       " 'Who did Alessandro Volta marry?',\n",
       " 'What did Alessandro Volta invent in 1800?',\n",
       " 'What is the battery made by Alessandro Volta credited as?',\n",
       " 'Did Alessandro Volta die and retire in the same place?',\n",
       " 'When did Alessandro Volta improve  and popularize the electrophorus?',\n",
       " 'How long was Alessandro Volta a professor at the University of Pavia?',\n",
       " 'Was Alessandro Volta an Egyptian?',\n",
       " 'Was Volta taught in public schools?',\n",
       " 'Was Volta made a count in 1810?',\n",
       " 'Who made Volta a count?',\n",
       " 'Where was Volta born?',\n",
       " 'When did Volta retire?',\n",
       " 'A year before improving and popularizing the electrophorus, what did Volta become?',\n",
       " 'Was Volta buried where he died or was he buried someplace else?',\n",
       " 'Did Volta marry before he became professor of experimental physics at the University of Pavia?',\n",
       " 'What happened in 1810?',\n",
       " \"Wasn't Alessandro Volta born in Como?\",\n",
       " 'Was Alessandro Volta born in Como?',\n",
       " 'Who became a professor of physics at the Royal School in Como?',\n",
       " 'When was Volta made a count by Napoleon?',\n",
       " 'Is Volta\\x01s legacy celebrated by a Temple on the shore of Lake Como in the center of the town?',\n",
       " 'Is the battery made by Volta credited as the first electrochemical cell?',\n",
       " 'Was Volta made a count by Napoleon in 1810?',\n",
       " 'In what year did he become a professor of physics at the Royal School in Como?',\n",
       " 'Was Avogadro a  professor at the University of Turin?',\n",
       " 'Was he a member of the Royal Superior Council on Public Instruction?',\n",
       " \"Is Avogadro's number used to compute the results of chemical reactions?\",\n",
       " \"Who first calculated the value of Avogadro's number?\",\n",
       " \"What does Avogadro's Law state?\",\n",
       " \"Who showed that Avogadro's theory held in dilute solutions?\",\n",
       " 'In what language was his 1811 paper published?',\n",
       " \"Who was Avogadro's wife?\",\n",
       " 'Why did Avogadro lose his chair at the University of Turin?',\n",
       " 'Was Amedeo Avogadro was born in Turin?',\n",
       " 'Is Avogadro hailed as a founder of the atomic-molecular theory?',\n",
       " \"Did Johann Josef Loschmidt first calculate the value of Avogadro's number?\",\n",
       " 'In 1820, Avogadro became a professor of physics where?',\n",
       " 'Avogadro did not actually use what word?',\n",
       " 'The number of elementary entities in 1 mole of a substance is known as what?',\n",
       " \"What would a German call Avogadro's number?\",\n",
       " 'Is Amedeo Avogadro Italian?',\n",
       " 'Did he become a professor before the revolutionary movements against the king of Sardinia?',\n",
       " 'Do ants belong to the Hymenoptera order?',\n",
       " 'Are ants used in cuisine?',\n",
       " \"Does an ant's head contain sensory organs?\",\n",
       " 'How do most ants travel?',\n",
       " 'In ant colonies, what are the fertile female ants called?']"
      ]
     },
     "execution_count": 66,
     "metadata": {},
     "output_type": "execute_result"
    }
   ],
   "source": [
    "q"
   ]
  },
  {
   "cell_type": "code",
   "execution_count": 67,
   "id": "skilled-virus",
   "metadata": {},
   "outputs": [
    {
     "name": "stdout",
     "output_type": "stream",
     "text": [
      "The question data  is encoded by Bert successfully.\n",
      "The question vectors are normalized successfully.\n",
      "The data is inserted into milvus successfully.\n",
      "Data inserted successfully into MongoDB.\n",
      "The data is inserted into MongoDB successfully.\n"
     ]
    }
   ],
   "source": [
    "qa_manager.insert(q, a)"
   ]
  },
  {
   "cell_type": "code",
   "execution_count": 85,
   "id": "proud-timer",
   "metadata": {},
   "outputs": [
    {
     "name": "stdout",
     "output_type": "stream",
     "text": [
      "[{'_id': '1614109344507132007', 'question': 'When did Alessandro Volta improve  and popularize the electrophorus?', 'answer': '1775'}, {'_id': '1614109344507132010', 'question': 'Was Volta taught in public schools?', 'answer': 'Yes.'}, {'_id': '1614109344507132025', 'question': 'Was Volta made a count by Napoleon in 1810?', 'answer': 'Yes, Volta was made a count by Napoleon in 1810.'}, {'_id': '1614109344507132046', 'question': 'Are ants used in cuisine?', 'answer': 'yes'}]\n"
     ]
    },
    {
     "data": {
      "text/plain": [
       "{'status': True,\n",
       " 'msg': ['1775',\n",
       "  'Yes.',\n",
       "  'Yes, Volta was made a count by Napoleon in 1810.',\n",
       "  'yes']}"
      ]
     },
     "execution_count": 85,
     "metadata": {},
     "output_type": "execute_result"
    }
   ],
   "source": [
    "qa_manager.get_answer(\"Are volta used for cuisine?\", 5, {'nprobe': 32})"
   ]
  },
  {
   "cell_type": "code",
   "execution_count": 84,
   "id": "lasting-ethiopia",
   "metadata": {},
   "outputs": [
    {
     "name": "stdout",
     "output_type": "stream",
     "text": [
      "The data is deleted successful from milvus.\n",
      "1 were deleted\n",
      "The data is deleted successful from MongoDB.\n"
     ]
    }
   ],
   "source": [
    "qa_manager.delete([1614109344507132002])"
   ]
  },
  {
   "cell_type": "code",
   "execution_count": 54,
   "id": "according-efficiency",
   "metadata": {},
   "outputs": [
    {
     "data": {
      "text/plain": [
       "bson.int64.Int64"
      ]
     },
     "execution_count": 54,
     "metadata": {},
     "output_type": "execute_result"
    }
   ],
   "source": [
    "qa_manager.mongo.collection.find_one()[\"_id\"]"
   ]
  },
  {
   "cell_type": "code",
   "execution_count": null,
   "id": "found-extension",
   "metadata": {},
   "outputs": [],
   "source": []
  }
 ],
 "metadata": {
  "kernelspec": {
   "display_name": "Python 3",
   "language": "python",
   "name": "python3"
  },
  "language_info": {
   "codemirror_mode": {
    "name": "ipython",
    "version": 3
   },
   "file_extension": ".py",
   "mimetype": "text/x-python",
   "name": "python",
   "nbconvert_exporter": "python",
   "pygments_lexer": "ipython3",
   "version": "3.8.5"
  }
 },
 "nbformat": 4,
 "nbformat_minor": 5
}
